{
 "cells": [
  {
   "cell_type": "code",
   "execution_count": 4,
   "metadata": {},
   "outputs": [
    {
     "name": "stdout",
     "output_type": "stream",
     "text": [
      "Input tidak valid. Pastikan Anda memasukkan angka.\n"
     ]
    }
   ],
   "source": [
    "try:\n",
    "    suhu = float(input(\"Masukkan suhu anda: \")) #Tugas 1.1\n",
    "\n",
    "    if suhu >= 38:\n",
    "        print(\"Anda Demam\")\n",
    "    elif suhu <= 32:\n",
    "        print(\"Anda Hipotermia\")\n",
    "    else:\n",
    "        print(\"Anda Tidak Demam\")\n",
    "\n",
    "except ValueError:\n",
    "    print(\"Input tidak valid. Pastikan Anda memasukkan angka.\")\n"
   ]
  },
  {
   "cell_type": "code",
   "execution_count": 14,
   "metadata": {},
   "outputs": [
    {
     "name": "stdout",
     "output_type": "stream",
     "text": [
      "Positif\n"
     ]
    }
   ],
   "source": [
    "angka = int(input(\"Masukan angka\")) #Tugas 1.2\n",
    "nilai = \"Positif\" if angka > 0 else \"Negatif\" if angka < 0 else \"nol\"\n",
    "print(nilai)"
   ]
  },
  {
   "cell_type": "code",
   "execution_count": 9,
   "metadata": {},
   "outputs": [
    {
     "name": "stdout",
     "output_type": "stream",
     "text": [
      "Terbesar 4\n"
     ]
    }
   ],
   "source": [
    "try:\n",
    "    angka1 = int(input(\"Masukan 1= \"))  #Tugas 1.3\n",
    "    angka2 = int(input(\"Masukan 2= \"))\n",
    "    angka3 = int(input(\"Masukan 3= \"))\n",
    "\n",
    "    if angka1 > angka2 and angka1 > angka3:\n",
    "        print(\"Terbesar\", angka1)\n",
    "    elif angka2 > angka1 and angka2 > angka3:\n",
    "        print(\"Terbesar\", angka2)\n",
    "    elif angka3 > angka1 and angka3 > angka2:\n",
    "        print(\"Terbesar\", angka3)\n",
    "    elif angka1 == angka2 == angka3:\n",
    "        print(\"Semua sama besarnya\")\n",
    "        \n",
    "except ValueError:\n",
    "    print(\"Input tidak valid. Pastikan Anda memasukkan angka.\")"
   ]
  },
  {
   "cell_type": "code",
   "execution_count": 10,
   "metadata": {},
   "outputs": [
    {
     "name": "stdout",
     "output_type": "stream",
     "text": [
      "Jumlah Hari  = 31\n"
     ]
    }
   ],
   "source": [
    "try:\n",
    "    bulan= int(input(\"Masukan Bulan (1-12)= \")) #Tugas 2\n",
    "\n",
    "    if bulan == 1 or bulan == 3 or bulan == 5 or bulan == 7 or bulan == 8 or bulan == 10 or bulan == 12:\n",
    "        print(\"Jumlah Hari  = 31\")\n",
    "    elif bulan == 2:\n",
    "        kabisat= str(input(\"Apakah Hari Kabisat? (ya/tidak)= \"))\n",
    "        if kabisat == \"ya\":\n",
    "            print(\"Jumlah Hari = 29\")\n",
    "        elif kabisat == \"tidak\":\n",
    "            print(\"Jumlah Hari = 28\")\n",
    "        else:\n",
    "            print(\"Inputan Tidak Sesuai\")\n",
    "    elif bulan == 4 or bulan == 6 or bulan == 9 or bulan == 11:\n",
    "        print(\"Jumlah Hari  = 30\")\n",
    "    \n",
    "except ValueError:\n",
    "    print(\"Input tidak valid. Pastikan Anda memasukkan angka.\")"
   ]
  },
  {
   "cell_type": "code",
   "execution_count": 15,
   "metadata": {},
   "outputs": [
    {
     "name": "stdout",
     "output_type": "stream",
     "text": [
      "3 sisi sama\n"
     ]
    }
   ],
   "source": [
    "try:\n",
    "\n",
    "    angka1 = int(input(\"Masukan 1= \"))  #Tugas 3\n",
    "    angka2 = int(input(\"Masukan 2= \"))\n",
    "    angka3 = int(input(\"Masukan 3= \"))\n",
    "\n",
    "    if angka1 == angka2 == angka3:\n",
    "        print(\"3 sisi sama\")\n",
    "    elif angka1 == angka2 or angka1 == angka3 or angka2 == angka3:\n",
    "        print(\"2 sisi sama\")\n",
    "    else:\n",
    "        print(\"tidak ada yang sama\")\n",
    "        \n",
    "except ValueError:\n",
    "    print(\"Input tidak valid. Pastikan Anda memasukkan angka.\")"
   ]
  }
 ],
 "metadata": {
  "kernelspec": {
   "display_name": "Python 3",
   "language": "python",
   "name": "python3"
  },
  "language_info": {
   "codemirror_mode": {
    "name": "ipython",
    "version": 3
   },
   "file_extension": ".py",
   "mimetype": "text/x-python",
   "name": "python",
   "nbconvert_exporter": "python",
   "pygments_lexer": "ipython3",
   "version": "3.12.2"
  }
 },
 "nbformat": 4,
 "nbformat_minor": 2
}
